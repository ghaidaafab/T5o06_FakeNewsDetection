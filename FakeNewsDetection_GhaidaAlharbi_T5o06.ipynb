{
 "cells": [
  {
   "cell_type": "markdown",
   "id": "a28f11c5",
   "metadata": {},
   "source": [
    "# Fake news detection"
   ]
  },
  {
   "cell_type": "markdown",
   "id": "daf4c422",
   "metadata": {},
   "source": [
    "## Importing Libararies"
   ]
  },
  {
   "cell_type": "code",
   "execution_count": 3,
   "id": "b51eb8f8",
   "metadata": {},
   "outputs": [],
   "source": [
    "#Standard Code block\n",
    "import pandas as pd \n",
    "import numpy as np \n",
    "import matplotlib.pyplot as plt\n",
    "%matplotlib inline\n",
    "import seaborn as sns\n",
    "import warnings\n",
    "warnings.filterwarnings(\"ignore\")\n",
    "from sklearn.pipeline import Pipeline\n"
   ]
  },
  {
   "cell_type": "markdown",
   "id": "e803bf09",
   "metadata": {},
   "source": [
    "## Reading the datasets"
   ]
  },
  {
   "cell_type": "markdown",
   "id": "58cf007c",
   "metadata": {},
   "source": [
    "### Loading Real News dataset"
   ]
  },
  {
   "cell_type": "code",
   "execution_count": 4,
   "id": "8d71ae89",
   "metadata": {},
   "outputs": [
    {
     "data": {
      "text/html": [
       "<div>\n",
       "<style scoped>\n",
       "    .dataframe tbody tr th:only-of-type {\n",
       "        vertical-align: middle;\n",
       "    }\n",
       "\n",
       "    .dataframe tbody tr th {\n",
       "        vertical-align: top;\n",
       "    }\n",
       "\n",
       "    .dataframe thead th {\n",
       "        text-align: right;\n",
       "    }\n",
       "</style>\n",
       "<table border=\"1\" class=\"dataframe\">\n",
       "  <thead>\n",
       "    <tr style=\"text-align: right;\">\n",
       "      <th></th>\n",
       "      <th>title</th>\n",
       "      <th>text</th>\n",
       "      <th>subject</th>\n",
       "      <th>date</th>\n",
       "    </tr>\n",
       "  </thead>\n",
       "  <tbody>\n",
       "    <tr>\n",
       "      <th>0</th>\n",
       "      <td>As U.S. budget fight looms, Republicans flip t...</td>\n",
       "      <td>WASHINGTON (Reuters) - The head of a conservat...</td>\n",
       "      <td>politicsNews</td>\n",
       "      <td>December 31, 2017</td>\n",
       "    </tr>\n",
       "    <tr>\n",
       "      <th>1</th>\n",
       "      <td>U.S. military to accept transgender recruits o...</td>\n",
       "      <td>WASHINGTON (Reuters) - Transgender people will...</td>\n",
       "      <td>politicsNews</td>\n",
       "      <td>December 29, 2017</td>\n",
       "    </tr>\n",
       "    <tr>\n",
       "      <th>2</th>\n",
       "      <td>Senior U.S. Republican senator: 'Let Mr. Muell...</td>\n",
       "      <td>WASHINGTON (Reuters) - The special counsel inv...</td>\n",
       "      <td>politicsNews</td>\n",
       "      <td>December 31, 2017</td>\n",
       "    </tr>\n",
       "    <tr>\n",
       "      <th>3</th>\n",
       "      <td>FBI Russia probe helped by Australian diplomat...</td>\n",
       "      <td>WASHINGTON (Reuters) - Trump campaign adviser ...</td>\n",
       "      <td>politicsNews</td>\n",
       "      <td>December 30, 2017</td>\n",
       "    </tr>\n",
       "    <tr>\n",
       "      <th>4</th>\n",
       "      <td>Trump wants Postal Service to charge 'much mor...</td>\n",
       "      <td>SEATTLE/WASHINGTON (Reuters) - President Donal...</td>\n",
       "      <td>politicsNews</td>\n",
       "      <td>December 29, 2017</td>\n",
       "    </tr>\n",
       "    <tr>\n",
       "      <th>5</th>\n",
       "      <td>White House, Congress prepare for talks on spe...</td>\n",
       "      <td>WEST PALM BEACH, Fla./WASHINGTON (Reuters) - T...</td>\n",
       "      <td>politicsNews</td>\n",
       "      <td>December 29, 2017</td>\n",
       "    </tr>\n",
       "    <tr>\n",
       "      <th>6</th>\n",
       "      <td>Trump says Russia probe will be fair, but time...</td>\n",
       "      <td>WEST PALM BEACH, Fla (Reuters) - President Don...</td>\n",
       "      <td>politicsNews</td>\n",
       "      <td>December 29, 2017</td>\n",
       "    </tr>\n",
       "    <tr>\n",
       "      <th>7</th>\n",
       "      <td>Factbox: Trump on Twitter (Dec 29) - Approval ...</td>\n",
       "      <td>The following statements were posted to the ve...</td>\n",
       "      <td>politicsNews</td>\n",
       "      <td>December 29, 2017</td>\n",
       "    </tr>\n",
       "    <tr>\n",
       "      <th>8</th>\n",
       "      <td>Trump on Twitter (Dec 28) - Global Warming</td>\n",
       "      <td>The following statements were posted to the ve...</td>\n",
       "      <td>politicsNews</td>\n",
       "      <td>December 29, 2017</td>\n",
       "    </tr>\n",
       "    <tr>\n",
       "      <th>9</th>\n",
       "      <td>Alabama official to certify Senator-elect Jone...</td>\n",
       "      <td>WASHINGTON (Reuters) - Alabama Secretary of St...</td>\n",
       "      <td>politicsNews</td>\n",
       "      <td>December 28, 2017</td>\n",
       "    </tr>\n",
       "  </tbody>\n",
       "</table>\n",
       "</div>"
      ],
      "text/plain": [
       "                                               title  \\\n",
       "0  As U.S. budget fight looms, Republicans flip t...   \n",
       "1  U.S. military to accept transgender recruits o...   \n",
       "2  Senior U.S. Republican senator: 'Let Mr. Muell...   \n",
       "3  FBI Russia probe helped by Australian diplomat...   \n",
       "4  Trump wants Postal Service to charge 'much mor...   \n",
       "5  White House, Congress prepare for talks on spe...   \n",
       "6  Trump says Russia probe will be fair, but time...   \n",
       "7  Factbox: Trump on Twitter (Dec 29) - Approval ...   \n",
       "8         Trump on Twitter (Dec 28) - Global Warming   \n",
       "9  Alabama official to certify Senator-elect Jone...   \n",
       "\n",
       "                                                text       subject  \\\n",
       "0  WASHINGTON (Reuters) - The head of a conservat...  politicsNews   \n",
       "1  WASHINGTON (Reuters) - Transgender people will...  politicsNews   \n",
       "2  WASHINGTON (Reuters) - The special counsel inv...  politicsNews   \n",
       "3  WASHINGTON (Reuters) - Trump campaign adviser ...  politicsNews   \n",
       "4  SEATTLE/WASHINGTON (Reuters) - President Donal...  politicsNews   \n",
       "5  WEST PALM BEACH, Fla./WASHINGTON (Reuters) - T...  politicsNews   \n",
       "6  WEST PALM BEACH, Fla (Reuters) - President Don...  politicsNews   \n",
       "7  The following statements were posted to the ve...  politicsNews   \n",
       "8  The following statements were posted to the ve...  politicsNews   \n",
       "9  WASHINGTON (Reuters) - Alabama Secretary of St...  politicsNews   \n",
       "\n",
       "                 date  \n",
       "0  December 31, 2017   \n",
       "1  December 29, 2017   \n",
       "2  December 31, 2017   \n",
       "3  December 30, 2017   \n",
       "4  December 29, 2017   \n",
       "5  December 29, 2017   \n",
       "6  December 29, 2017   \n",
       "7  December 29, 2017   \n",
       "8  December 29, 2017   \n",
       "9  December 28, 2017   "
      ]
     },
     "execution_count": 4,
     "metadata": {},
     "output_type": "execute_result"
    }
   ],
   "source": [
    "#load true/real news\n",
    "true_ds=pd.read_csv('True.csv')\n",
    "\n",
    "# Take a look at the first 5 rows\n",
    "true_ds.head(10)"
   ]
  },
  {
   "cell_type": "code",
   "execution_count": 5,
   "id": "8bdc8a52",
   "metadata": {},
   "outputs": [
    {
     "name": "stdout",
     "output_type": "stream",
     "text": [
      "<class 'pandas.core.frame.DataFrame'>\n",
      "RangeIndex: 21417 entries, 0 to 21416\n",
      "Data columns (total 4 columns):\n",
      " #   Column   Non-Null Count  Dtype \n",
      "---  ------   --------------  ----- \n",
      " 0   title    21417 non-null  object\n",
      " 1   text     21417 non-null  object\n",
      " 2   subject  21417 non-null  object\n",
      " 3   date     21417 non-null  object\n",
      "dtypes: object(4)\n",
      "memory usage: 669.4+ KB\n"
     ]
    }
   ],
   "source": [
    "#take a look at the datatypes\n",
    "true_ds.info()"
   ]
  },
  {
   "cell_type": "markdown",
   "id": "beae9019",
   "metadata": {
    "slideshow": {
     "slide_type": "notes"
    }
   },
   "source": [
    "the output of the cell above shows that all features have object types :\n",
    "\n",
    "`title`, which is the title of news article.\n",
    "\n",
    "`text`, it contains the text of the article.\n",
    "\n",
    "`subject`, it contains article type\n",
    "\n",
    "`date`, the date the article was published"
   ]
  },
  {
   "cell_type": "code",
   "execution_count": 6,
   "id": "8298a6ab",
   "metadata": {},
   "outputs": [
    {
     "data": {
      "text/html": [
       "<div>\n",
       "<style scoped>\n",
       "    .dataframe tbody tr th:only-of-type {\n",
       "        vertical-align: middle;\n",
       "    }\n",
       "\n",
       "    .dataframe tbody tr th {\n",
       "        vertical-align: top;\n",
       "    }\n",
       "\n",
       "    .dataframe thead th {\n",
       "        text-align: right;\n",
       "    }\n",
       "</style>\n",
       "<table border=\"1\" class=\"dataframe\">\n",
       "  <thead>\n",
       "    <tr style=\"text-align: right;\">\n",
       "      <th></th>\n",
       "      <th>title</th>\n",
       "      <th>text</th>\n",
       "      <th>subject</th>\n",
       "      <th>date</th>\n",
       "    </tr>\n",
       "  </thead>\n",
       "  <tbody>\n",
       "    <tr>\n",
       "      <th>count</th>\n",
       "      <td>21417</td>\n",
       "      <td>21417</td>\n",
       "      <td>21417</td>\n",
       "      <td>21417</td>\n",
       "    </tr>\n",
       "    <tr>\n",
       "      <th>unique</th>\n",
       "      <td>20826</td>\n",
       "      <td>21192</td>\n",
       "      <td>2</td>\n",
       "      <td>716</td>\n",
       "    </tr>\n",
       "    <tr>\n",
       "      <th>top</th>\n",
       "      <td>Factbox: Trump fills top jobs for his administ...</td>\n",
       "      <td>(Reuters) - Highlights for U.S. President Dona...</td>\n",
       "      <td>politicsNews</td>\n",
       "      <td>December 20, 2017</td>\n",
       "    </tr>\n",
       "    <tr>\n",
       "      <th>freq</th>\n",
       "      <td>14</td>\n",
       "      <td>8</td>\n",
       "      <td>11272</td>\n",
       "      <td>182</td>\n",
       "    </tr>\n",
       "  </tbody>\n",
       "</table>\n",
       "</div>"
      ],
      "text/plain": [
       "                                                    title  \\\n",
       "count                                               21417   \n",
       "unique                                              20826   \n",
       "top     Factbox: Trump fills top jobs for his administ...   \n",
       "freq                                                   14   \n",
       "\n",
       "                                                     text       subject  \\\n",
       "count                                               21417         21417   \n",
       "unique                                              21192             2   \n",
       "top     (Reuters) - Highlights for U.S. President Dona...  politicsNews   \n",
       "freq                                                    8         11272   \n",
       "\n",
       "                      date  \n",
       "count                21417  \n",
       "unique                 716  \n",
       "top     December 20, 2017   \n",
       "freq                   182  "
      ]
     },
     "execution_count": 6,
     "metadata": {},
     "output_type": "execute_result"
    }
   ],
   "source": [
    "#Describe True_ds \n",
    "true_ds.describe()"
   ]
  },
  {
   "cell_type": "code",
   "execution_count": 7,
   "id": "98a571cd",
   "metadata": {},
   "outputs": [
    {
     "data": {
      "text/plain": [
       "(21417, 4)"
      ]
     },
     "execution_count": 7,
     "metadata": {},
     "output_type": "execute_result"
    }
   ],
   "source": [
    "true_ds.shape "
   ]
  },
  {
   "cell_type": "code",
   "execution_count": 8,
   "id": "f36f50e0",
   "metadata": {},
   "outputs": [
    {
     "data": {
      "text/plain": [
       "'WASHINGTON (Reuters) - U.S. Senate Democrats on Thursday failed to pass a measure to block oil and gas drilling in part of the Arctic National Wildlife Reserve, losing to Republicans who believe production  there would provide jobs and wealth.  An amendment blocking the development failed 48-52, mostly along party lines. A lone Republican, Senator Susan Collins of Maine, supported the measure. The only Democrat to vote against it was Joe Manchin from West Virginia. Conservationists and many Democrats treasure the Alaskan reserve, also known as ANWR, as one of the planet’s last paradises. Established by Congress in 1980, it is home to tribes and a habitat for sensitive wildlife including caribou, polar bears and hundreds of species of migratory birds.  Republicans, who now control Congress and the White House, have long wanted to open a portion of ANWR called the 1002 area. Senator Lisa Murkowski, the chair of the Senate energy committee and an Alaskan Republican, called the 1002 portion a “non wilderness area” because the government put it aside decades ago for petroleum exploration. The U.S. Geological Survey estimates the area on the Prudhoe Bay in Northern Alaska has up to 12 billion barrels of recoverable crude.  A Senate budget measure introduced this fall instructed Murkowski’s committee to raise $1 billion over 10 years. She hopes some of that money will come from energy company royalties after opening the 1002 area to drilling. Murkowski urged senators to see the “instruction as an opportunity to do something constructive” and focus on boosting energy output from federal lands that have long been off limit.  The failed amendment, sponsored by Senator Maria Cantwell the top Democrat on the Senate Energy Committee, would have eliminated the directive from the budget resolution seeking to raise funds. Republicans led a “sneak attack” that turned “public lands over to polluters,” Cantwell said. Senator Jeff Merkley, another Democrat, has said there is “something cynical and sad” about the effort to open ANWR because it would boost oil output from the state feeling the fastest effects of climate change, which a majority of scientists link to carbon emissions from the burning of fossil fuels and development.  The battle is not over. The House of Representatives will next have to pass its version of a plan to raise revenues from the drilling. A final budget package would then be worked out by leaders from the two chambers.  Petroleum interests have long lobbied to explore in the area and say technology advances mean the impact of operations in the reserve would be small. Murkowski said oil companies could use infrared cameras to detect and avoid polar bear dens while exploring for oil and gas. It is uncertain whether energy companies that have faced years of static crude prices  amid a wealth of oil in the continental United States would be willing to increase drilling in the harsh and frigid Arctic.  Environmentalists vowed to keep up their fight. “Congress cannot sneak this through the back door when they think nobody is looking,” said Jamie Williams, president of the Wilderness Society. ANWR “is simply too fragile and special to drill, and we have a moral obligation to protect it for future generations of Americans.”  '"
      ]
     },
     "execution_count": 8,
     "metadata": {},
     "output_type": "execute_result"
    }
   ],
   "source": [
    "true_ds['text'].iloc[1123]"
   ]
  },
  {
   "cell_type": "markdown",
   "id": "8b71d4b8",
   "metadata": {},
   "source": [
    "  "
   ]
  },
  {
   "cell_type": "markdown",
   "id": "060cbca7",
   "metadata": {},
   "source": [
    "  "
   ]
  },
  {
   "cell_type": "markdown",
   "id": "219e386e",
   "metadata": {},
   "source": [
    "### Loading Fake News dataset"
   ]
  },
  {
   "cell_type": "code",
   "execution_count": 9,
   "id": "1852152b",
   "metadata": {},
   "outputs": [
    {
     "data": {
      "text/html": [
       "<div>\n",
       "<style scoped>\n",
       "    .dataframe tbody tr th:only-of-type {\n",
       "        vertical-align: middle;\n",
       "    }\n",
       "\n",
       "    .dataframe tbody tr th {\n",
       "        vertical-align: top;\n",
       "    }\n",
       "\n",
       "    .dataframe thead th {\n",
       "        text-align: right;\n",
       "    }\n",
       "</style>\n",
       "<table border=\"1\" class=\"dataframe\">\n",
       "  <thead>\n",
       "    <tr style=\"text-align: right;\">\n",
       "      <th></th>\n",
       "      <th>title</th>\n",
       "      <th>text</th>\n",
       "      <th>subject</th>\n",
       "      <th>date</th>\n",
       "    </tr>\n",
       "  </thead>\n",
       "  <tbody>\n",
       "    <tr>\n",
       "      <th>0</th>\n",
       "      <td>Donald Trump Sends Out Embarrassing New Year’...</td>\n",
       "      <td>Donald Trump just couldn t wish all Americans ...</td>\n",
       "      <td>News</td>\n",
       "      <td>December 31, 2017</td>\n",
       "    </tr>\n",
       "    <tr>\n",
       "      <th>1</th>\n",
       "      <td>Drunk Bragging Trump Staffer Started Russian ...</td>\n",
       "      <td>House Intelligence Committee Chairman Devin Nu...</td>\n",
       "      <td>News</td>\n",
       "      <td>December 31, 2017</td>\n",
       "    </tr>\n",
       "    <tr>\n",
       "      <th>2</th>\n",
       "      <td>Sheriff David Clarke Becomes An Internet Joke...</td>\n",
       "      <td>On Friday, it was revealed that former Milwauk...</td>\n",
       "      <td>News</td>\n",
       "      <td>December 30, 2017</td>\n",
       "    </tr>\n",
       "    <tr>\n",
       "      <th>3</th>\n",
       "      <td>Trump Is So Obsessed He Even Has Obama’s Name...</td>\n",
       "      <td>On Christmas day, Donald Trump announced that ...</td>\n",
       "      <td>News</td>\n",
       "      <td>December 29, 2017</td>\n",
       "    </tr>\n",
       "    <tr>\n",
       "      <th>4</th>\n",
       "      <td>Pope Francis Just Called Out Donald Trump Dur...</td>\n",
       "      <td>Pope Francis used his annual Christmas Day mes...</td>\n",
       "      <td>News</td>\n",
       "      <td>December 25, 2017</td>\n",
       "    </tr>\n",
       "  </tbody>\n",
       "</table>\n",
       "</div>"
      ],
      "text/plain": [
       "                                               title  \\\n",
       "0   Donald Trump Sends Out Embarrassing New Year’...   \n",
       "1   Drunk Bragging Trump Staffer Started Russian ...   \n",
       "2   Sheriff David Clarke Becomes An Internet Joke...   \n",
       "3   Trump Is So Obsessed He Even Has Obama’s Name...   \n",
       "4   Pope Francis Just Called Out Donald Trump Dur...   \n",
       "\n",
       "                                                text subject  \\\n",
       "0  Donald Trump just couldn t wish all Americans ...    News   \n",
       "1  House Intelligence Committee Chairman Devin Nu...    News   \n",
       "2  On Friday, it was revealed that former Milwauk...    News   \n",
       "3  On Christmas day, Donald Trump announced that ...    News   \n",
       "4  Pope Francis used his annual Christmas Day mes...    News   \n",
       "\n",
       "                date  \n",
       "0  December 31, 2017  \n",
       "1  December 31, 2017  \n",
       "2  December 30, 2017  \n",
       "3  December 29, 2017  \n",
       "4  December 25, 2017  "
      ]
     },
     "execution_count": 9,
     "metadata": {},
     "output_type": "execute_result"
    }
   ],
   "source": [
    "#load fake news\n",
    "fake_ds=pd.read_csv('Fake.csv')\n",
    "\n",
    "# Take a look at the first few rows\n",
    "fake_ds.head()"
   ]
  },
  {
   "cell_type": "code",
   "execution_count": 10,
   "id": "3d4235ba",
   "metadata": {},
   "outputs": [
    {
     "name": "stdout",
     "output_type": "stream",
     "text": [
      "<class 'pandas.core.frame.DataFrame'>\n",
      "RangeIndex: 23481 entries, 0 to 23480\n",
      "Data columns (total 4 columns):\n",
      " #   Column   Non-Null Count  Dtype \n",
      "---  ------   --------------  ----- \n",
      " 0   title    23481 non-null  object\n",
      " 1   text     23481 non-null  object\n",
      " 2   subject  23481 non-null  object\n",
      " 3   date     23481 non-null  object\n",
      "dtypes: object(4)\n",
      "memory usage: 733.9+ KB\n"
     ]
    }
   ],
   "source": [
    "# Take a look at the datatypes\n",
    "fake_ds.info()"
   ]
  },
  {
   "cell_type": "markdown",
   "id": "d4769ff3",
   "metadata": {},
   "source": [
    "the output of the cell above shows that all features have object types :\n",
    "\n",
    "`title`, which is the title of news article.\n",
    "\n",
    "`text`, it contains the text of the article.\n",
    "\n",
    "`subject`, it contains article type\n",
    "\n",
    "`date`, the date the article was published"
   ]
  },
  {
   "cell_type": "code",
   "execution_count": 11,
   "id": "ad56abc7",
   "metadata": {},
   "outputs": [
    {
     "data": {
      "text/plain": [
       "(23481, 4)"
      ]
     },
     "execution_count": 11,
     "metadata": {},
     "output_type": "execute_result"
    }
   ],
   "source": [
    " fake_ds.shape"
   ]
  },
  {
   "cell_type": "code",
   "execution_count": 12,
   "id": "f007c4be",
   "metadata": {},
   "outputs": [
    {
     "data": {
      "text/plain": [
       "'According to a Gallup poll released on Thursday, Republican satisfaction with the direction in which the USA is heading took its biggest hit between the months of May and June in the time since Donald Trump took office, dropping a massive 17 points.While satisfaction among Democrats and independents also fell during the same time period, one and three points, respectively, the level of satisfaction among Republicans plummeted from 58% in May to only 41% in June. To add insult to injury, these latest numbers bring the overall satisfaction rating among Americans to a paltry 24%, the lowest since July, 2016, which came on the heels of a spree of killings of African-American men at the hands of police officers and then a spate of shootings of law enforcement officers, pushing the country to the brink. That s a pretty tough act to follow.The latest drop in Trump s satisfaction rating comes amid a slew of controversies in the last several weeks, especially his decision to abruptly fire FBI director James Comey, the man who just so happened to be responsible for handling the investigation into Russian interference in last year s presidential election. The fact that it was revealed that Trump may have also divulged highly classified information to the Russians only compounded the problem.What Comey had to say under oath at his Senate inquiry last week didn t help matters for the President much, either, such as the revelation that Trump had not only asked Comey in February to drop the FBI investigation into former national security advisor Michael Flynn, but also asked for Comey s  loyalty.  Fortunately for all of the United States of America, Comey instead promised his honesty.If President Trump can take any satisfaction from any of this, it is the fact that the previous six US Presidents also suffered dwindling satisfaction ratings of their time in office. Perhaps not to this extent within the first five months, but it did happen eventually.Featured image via Andrew Harrer-Pool/Getty Images'"
      ]
     },
     "execution_count": 12,
     "metadata": {},
     "output_type": "execute_result"
    }
   ],
   "source": [
    "fake_ds['text'].iloc[1123]"
   ]
  },
  {
   "cell_type": "markdown",
   "id": "76afb011",
   "metadata": {},
   "source": [
    "    "
   ]
  },
  {
   "cell_type": "markdown",
   "id": "28d501f4",
   "metadata": {},
   "source": [
    "     "
   ]
  },
  {
   "cell_type": "markdown",
   "id": "a2679794",
   "metadata": {},
   "source": [
    "# Data cleaning and preparation"
   ]
  },
  {
   "cell_type": "markdown",
   "id": "91402fb7",
   "metadata": {},
   "source": [
    "#### In this section, I will do:\n",
    "- Combine datasets together.\n",
    "- Mix recoreds.\n",
    "- Removing any duplicated recorde.\n",
    "- Processing texts.\n",
    "- Drop some columns .\n",
    "- Checking a missing value"
   ]
  },
  {
   "cell_type": "code",
   "execution_count": 13,
   "id": "5959f948",
   "metadata": {},
   "outputs": [],
   "source": [
    "# Creating new column\n",
    "# It will help when we combine both the tables\n",
    "# Fake or Real news\n",
    "true_ds['label']='Real news'\n",
    "fake_ds['label']='Fake news'"
   ]
  },
  {
   "cell_type": "markdown",
   "id": "4bf75fad",
   "metadata": {},
   "source": [
    "  "
   ]
  },
  {
   "cell_type": "code",
   "execution_count": 14,
   "id": "2357ee1f",
   "metadata": {},
   "outputs": [
    {
     "data": {
      "text/plain": [
       "(44898, 5)"
      ]
     },
     "execution_count": 14,
     "metadata": {},
     "output_type": "execute_result"
    }
   ],
   "source": [
    "# Concatening the datasets\n",
    "news_df = pd.concat([true_ds, fake_ds], ignore_index=True)\n",
    "news_df.shape"
   ]
  },
  {
   "cell_type": "markdown",
   "id": "e063b495",
   "metadata": {},
   "source": [
    "\n",
    "\n",
    "\n",
    "The dataset has 44,898 records and 5 columns."
   ]
  },
  {
   "cell_type": "code",
   "execution_count": 15,
   "id": "b29335c0",
   "metadata": {},
   "outputs": [],
   "source": [
    "#mix records \n",
    "from sklearn.utils import shuffle\n",
    "news_df = shuffle(news_df)\n",
    "news_df = news_df.reset_index(drop=True)\n"
   ]
  },
  {
   "cell_type": "code",
   "execution_count": 16,
   "id": "bf69007b",
   "metadata": {},
   "outputs": [
    {
     "data": {
      "text/html": [
       "<div>\n",
       "<style scoped>\n",
       "    .dataframe tbody tr th:only-of-type {\n",
       "        vertical-align: middle;\n",
       "    }\n",
       "\n",
       "    .dataframe tbody tr th {\n",
       "        vertical-align: top;\n",
       "    }\n",
       "\n",
       "    .dataframe thead th {\n",
       "        text-align: right;\n",
       "    }\n",
       "</style>\n",
       "<table border=\"1\" class=\"dataframe\">\n",
       "  <thead>\n",
       "    <tr style=\"text-align: right;\">\n",
       "      <th></th>\n",
       "      <th>title</th>\n",
       "      <th>text</th>\n",
       "      <th>subject</th>\n",
       "      <th>date</th>\n",
       "      <th>label</th>\n",
       "    </tr>\n",
       "  </thead>\n",
       "  <tbody>\n",
       "    <tr>\n",
       "      <th>0</th>\n",
       "      <td>In breathless U.S. election, Twitter generates...</td>\n",
       "      <td>NEW YORK/WASHINGTON (Reuters) - This year’s pr...</td>\n",
       "      <td>politicsNews</td>\n",
       "      <td>October 27, 2016</td>\n",
       "      <td>Real news</td>\n",
       "    </tr>\n",
       "    <tr>\n",
       "      <th>1</th>\n",
       "      <td>WHAT? DEMOCRAT CONGRESSWOMAN Calls Violent Rio...</td>\n",
       "      <td>Here s just one video from last night that wil...</td>\n",
       "      <td>politics</td>\n",
       "      <td>Feb 2, 2017</td>\n",
       "      <td>Fake news</td>\n",
       "    </tr>\n",
       "    <tr>\n",
       "      <th>2</th>\n",
       "      <td>STUDY SHOWS UP TO 2.8 MILLION Non U.S. Citizen...</td>\n",
       "      <td>One California resident commented: Lots of ill...</td>\n",
       "      <td>left-news</td>\n",
       "      <td>Jan 30, 2017</td>\n",
       "      <td>Fake news</td>\n",
       "    </tr>\n",
       "    <tr>\n",
       "      <th>3</th>\n",
       "      <td>Explosion in Mali kills three U.N. soldiers fr...</td>\n",
       "      <td>ABIDJAN (Reuters) - Three United Nations soldi...</td>\n",
       "      <td>worldnews</td>\n",
       "      <td>September 24, 2017</td>\n",
       "      <td>Real news</td>\n",
       "    </tr>\n",
       "    <tr>\n",
       "      <th>4</th>\n",
       "      <td>LOL! DEMOCRAT CHEERLEADER Cokie Roberts Delive...</td>\n",
       "      <td>Earlier today, President Trump tweeted about t...</td>\n",
       "      <td>politics</td>\n",
       "      <td>Nov 26, 2017</td>\n",
       "      <td>Fake news</td>\n",
       "    </tr>\n",
       "    <tr>\n",
       "      <th>5</th>\n",
       "      <td>Judge Who Blocked Trump’s Muslim Ban REPEATED...</td>\n",
       "      <td>While Trump is whining up a storm on Twitter a...</td>\n",
       "      <td>News</td>\n",
       "      <td>February 5, 2017</td>\n",
       "      <td>Fake news</td>\n",
       "    </tr>\n",
       "    <tr>\n",
       "      <th>6</th>\n",
       "      <td>Jennifer Lawrence Has Two VERY Choice Words F...</td>\n",
       "      <td>Whether you love him or hate him, most of us p...</td>\n",
       "      <td>News</td>\n",
       "      <td>May 15, 2016</td>\n",
       "      <td>Fake news</td>\n",
       "    </tr>\n",
       "    <tr>\n",
       "      <th>7</th>\n",
       "      <td>NOT KIDDING: Students Are Given Counseling Aft...</td>\n",
       "      <td>When did white students become throw away citi...</td>\n",
       "      <td>left-news</td>\n",
       "      <td>Nov 25, 2015</td>\n",
       "      <td>Fake news</td>\n",
       "    </tr>\n",
       "    <tr>\n",
       "      <th>8</th>\n",
       "      <td>TREY GOWDY ON SPYING ON AMERICAN CITIZENS…Like...</td>\n",
       "      <td></td>\n",
       "      <td>Government News</td>\n",
       "      <td>Mar 28, 2017</td>\n",
       "      <td>Fake news</td>\n",
       "    </tr>\n",
       "    <tr>\n",
       "      <th>9</th>\n",
       "      <td>An Anonymous Group Just Revealed The Direct P...</td>\n",
       "      <td>Just after Donald Trump was sworn in, his admi...</td>\n",
       "      <td>News</td>\n",
       "      <td>January 31, 2017</td>\n",
       "      <td>Fake news</td>\n",
       "    </tr>\n",
       "  </tbody>\n",
       "</table>\n",
       "</div>"
      ],
      "text/plain": [
       "                                               title  \\\n",
       "0  In breathless U.S. election, Twitter generates...   \n",
       "1  WHAT? DEMOCRAT CONGRESSWOMAN Calls Violent Rio...   \n",
       "2  STUDY SHOWS UP TO 2.8 MILLION Non U.S. Citizen...   \n",
       "3  Explosion in Mali kills three U.N. soldiers fr...   \n",
       "4  LOL! DEMOCRAT CHEERLEADER Cokie Roberts Delive...   \n",
       "5   Judge Who Blocked Trump’s Muslim Ban REPEATED...   \n",
       "6   Jennifer Lawrence Has Two VERY Choice Words F...   \n",
       "7  NOT KIDDING: Students Are Given Counseling Aft...   \n",
       "8  TREY GOWDY ON SPYING ON AMERICAN CITIZENS…Like...   \n",
       "9   An Anonymous Group Just Revealed The Direct P...   \n",
       "\n",
       "                                                text          subject  \\\n",
       "0  NEW YORK/WASHINGTON (Reuters) - This year’s pr...     politicsNews   \n",
       "1  Here s just one video from last night that wil...         politics   \n",
       "2  One California resident commented: Lots of ill...        left-news   \n",
       "3  ABIDJAN (Reuters) - Three United Nations soldi...        worldnews   \n",
       "4  Earlier today, President Trump tweeted about t...         politics   \n",
       "5  While Trump is whining up a storm on Twitter a...             News   \n",
       "6  Whether you love him or hate him, most of us p...             News   \n",
       "7  When did white students become throw away citi...        left-news   \n",
       "8                                                     Government News   \n",
       "9  Just after Donald Trump was sworn in, his admi...             News   \n",
       "\n",
       "                  date      label  \n",
       "0    October 27, 2016   Real news  \n",
       "1          Feb 2, 2017  Fake news  \n",
       "2         Jan 30, 2017  Fake news  \n",
       "3  September 24, 2017   Real news  \n",
       "4         Nov 26, 2017  Fake news  \n",
       "5     February 5, 2017  Fake news  \n",
       "6         May 15, 2016  Fake news  \n",
       "7         Nov 25, 2015  Fake news  \n",
       "8         Mar 28, 2017  Fake news  \n",
       "9     January 31, 2017  Fake news  "
      ]
     },
     "execution_count": 16,
     "metadata": {},
     "output_type": "execute_result"
    }
   ],
   "source": [
    "# First 10 rows of the news table\n",
    "news_df.head(10)"
   ]
  },
  {
   "cell_type": "markdown",
   "id": "d6d9413b",
   "metadata": {},
   "source": [
    "    "
   ]
  },
  {
   "cell_type": "code",
   "execution_count": 19,
   "id": "2979f600",
   "metadata": {},
   "outputs": [
    {
     "data": {
      "text/html": [
       "<div>\n",
       "<style scoped>\n",
       "    .dataframe tbody tr th:only-of-type {\n",
       "        vertical-align: middle;\n",
       "    }\n",
       "\n",
       "    .dataframe tbody tr th {\n",
       "        vertical-align: top;\n",
       "    }\n",
       "\n",
       "    .dataframe thead th {\n",
       "        text-align: right;\n",
       "    }\n",
       "</style>\n",
       "<table border=\"1\" class=\"dataframe\">\n",
       "  <thead>\n",
       "    <tr style=\"text-align: right;\">\n",
       "      <th></th>\n",
       "      <th>title</th>\n",
       "      <th>text</th>\n",
       "      <th>subject</th>\n",
       "      <th>date</th>\n",
       "      <th>label</th>\n",
       "    </tr>\n",
       "  </thead>\n",
       "  <tbody>\n",
       "    <tr>\n",
       "      <th>1941</th>\n",
       "      <td>Serbian, Croatian police detain 17 for smuggli...</td>\n",
       "      <td>BELGRADE (Reuters) - In a joint sting, Serbian...</td>\n",
       "      <td>worldnews</td>\n",
       "      <td>December 20, 2017</td>\n",
       "      <td>Real news</td>\n",
       "    </tr>\n",
       "    <tr>\n",
       "      <th>2499</th>\n",
       "      <td>Trump chooses pro wrestling magnate Linda McMa...</td>\n",
       "      <td>WASHINGTON (Reuters) - U.S. President-elect Do...</td>\n",
       "      <td>politicsNews</td>\n",
       "      <td>December 7, 2016</td>\n",
       "      <td>Real news</td>\n",
       "    </tr>\n",
       "    <tr>\n",
       "      <th>6254</th>\n",
       "      <td>Kremlin: U.S. arms license for Kiev may trigge...</td>\n",
       "      <td>MOSCOW (Reuters) - The approval by the United ...</td>\n",
       "      <td>worldnews</td>\n",
       "      <td>December 21, 2017</td>\n",
       "      <td>Real news</td>\n",
       "    </tr>\n",
       "    <tr>\n",
       "      <th>7100</th>\n",
       "      <td>Kenyan President Kenyatta wins 98 percent of v...</td>\n",
       "      <td>NAIROBI (Reuters) - Kenya s incumbent Presiden...</td>\n",
       "      <td>worldnews</td>\n",
       "      <td>October 30, 2017</td>\n",
       "      <td>Real news</td>\n",
       "    </tr>\n",
       "    <tr>\n",
       "      <th>7173</th>\n",
       "      <td>Pentagon notified U.S. Congress of $593 millio...</td>\n",
       "      <td>WASHINGTON (Reuters) - The Pentagon has notifi...</td>\n",
       "      <td>politicsNews</td>\n",
       "      <td>August 30, 2017</td>\n",
       "      <td>Real news</td>\n",
       "    </tr>\n",
       "    <tr>\n",
       "      <th>...</th>\n",
       "      <td>...</td>\n",
       "      <td>...</td>\n",
       "      <td>...</td>\n",
       "      <td>...</td>\n",
       "      <td>...</td>\n",
       "    </tr>\n",
       "    <tr>\n",
       "      <th>44474</th>\n",
       "      <td>Obama makes last attempt to persuade Congress ...</td>\n",
       "      <td>WASHINGTON (Reuters) - President Barack Obama ...</td>\n",
       "      <td>politicsNews</td>\n",
       "      <td>February 23, 2016</td>\n",
       "      <td>Real news</td>\n",
       "    </tr>\n",
       "    <tr>\n",
       "      <th>44569</th>\n",
       "      <td>'Nuclear option' fallout? More extreme U.S. ju...</td>\n",
       "      <td>WASHINGTON (Reuters) - A Republican-backed Sen...</td>\n",
       "      <td>politicsNews</td>\n",
       "      <td>April 6, 2017</td>\n",
       "      <td>Real news</td>\n",
       "    </tr>\n",
       "    <tr>\n",
       "      <th>44654</th>\n",
       "      <td>Highlights: The Trump presidency on March 31 a...</td>\n",
       "      <td>(Reuters) - Highlights of the day for U.S. Pre...</td>\n",
       "      <td>politicsNews</td>\n",
       "      <td>March 31, 2017</td>\n",
       "      <td>Real news</td>\n",
       "    </tr>\n",
       "    <tr>\n",
       "      <th>44733</th>\n",
       "      <td>Mexican governor requests leave to run for pre...</td>\n",
       "      <td>MEXICO CITY (Reuters) - The governor of Nuevo ...</td>\n",
       "      <td>worldnews</td>\n",
       "      <td>December 21, 2017</td>\n",
       "      <td>Real news</td>\n",
       "    </tr>\n",
       "    <tr>\n",
       "      <th>44808</th>\n",
       "      <td>Kuwait says GCC to keep operating despite Qata...</td>\n",
       "      <td>DUBAI (Reuters) - Kuwait s deputy foreign mini...</td>\n",
       "      <td>worldnews</td>\n",
       "      <td>December 27, 2017</td>\n",
       "      <td>Real news</td>\n",
       "    </tr>\n",
       "  </tbody>\n",
       "</table>\n",
       "<p>209 rows × 5 columns</p>\n",
       "</div>"
      ],
      "text/plain": [
       "                                                   title  \\\n",
       "1941   Serbian, Croatian police detain 17 for smuggli...   \n",
       "2499   Trump chooses pro wrestling magnate Linda McMa...   \n",
       "6254   Kremlin: U.S. arms license for Kiev may trigge...   \n",
       "7100   Kenyan President Kenyatta wins 98 percent of v...   \n",
       "7173   Pentagon notified U.S. Congress of $593 millio...   \n",
       "...                                                  ...   \n",
       "44474  Obama makes last attempt to persuade Congress ...   \n",
       "44569  'Nuclear option' fallout? More extreme U.S. ju...   \n",
       "44654  Highlights: The Trump presidency on March 31 a...   \n",
       "44733  Mexican governor requests leave to run for pre...   \n",
       "44808  Kuwait says GCC to keep operating despite Qata...   \n",
       "\n",
       "                                                    text       subject  \\\n",
       "1941   BELGRADE (Reuters) - In a joint sting, Serbian...     worldnews   \n",
       "2499   WASHINGTON (Reuters) - U.S. President-elect Do...  politicsNews   \n",
       "6254   MOSCOW (Reuters) - The approval by the United ...     worldnews   \n",
       "7100   NAIROBI (Reuters) - Kenya s incumbent Presiden...     worldnews   \n",
       "7173   WASHINGTON (Reuters) - The Pentagon has notifi...  politicsNews   \n",
       "...                                                  ...           ...   \n",
       "44474  WASHINGTON (Reuters) - President Barack Obama ...  politicsNews   \n",
       "44569  WASHINGTON (Reuters) - A Republican-backed Sen...  politicsNews   \n",
       "44654  (Reuters) - Highlights of the day for U.S. Pre...  politicsNews   \n",
       "44733  MEXICO CITY (Reuters) - The governor of Nuevo ...     worldnews   \n",
       "44808  DUBAI (Reuters) - Kuwait s deputy foreign mini...     worldnews   \n",
       "\n",
       "                     date      label  \n",
       "1941   December 20, 2017   Real news  \n",
       "2499    December 7, 2016   Real news  \n",
       "6254   December 21, 2017   Real news  \n",
       "7100    October 30, 2017   Real news  \n",
       "7173     August 30, 2017   Real news  \n",
       "...                   ...        ...  \n",
       "44474  February 23, 2016   Real news  \n",
       "44569      April 6, 2017   Real news  \n",
       "44654     March 31, 2017   Real news  \n",
       "44733  December 21, 2017   Real news  \n",
       "44808  December 27, 2017   Real news  \n",
       "\n",
       "[209 rows x 5 columns]"
      ]
     },
     "execution_count": 19,
     "metadata": {},
     "output_type": "execute_result"
    }
   ],
   "source": [
    "# Checking if any duplicate records are present \n",
    "duplicate=news_df[news_df.duplicated()]\n",
    "duplicate"
   ]
  },
  {
   "cell_type": "markdown",
   "id": "203d29b7",
   "metadata": {},
   "source": [
    "     "
   ]
  },
  {
   "cell_type": "markdown",
   "id": "4c3325a4",
   "metadata": {},
   "source": [
    "There are 209 duplicate records in the dataset."
   ]
  },
  {
   "cell_type": "code",
   "execution_count": 20,
   "id": "3b7af5d9",
   "metadata": {},
   "outputs": [],
   "source": [
    "# Removing duplicate records\n",
    "news_df.drop_duplicates(inplace=True)"
   ]
  },
  {
   "cell_type": "code",
   "execution_count": 21,
   "id": "4d72db58",
   "metadata": {},
   "outputs": [
    {
     "data": {
      "text/html": [
       "<div>\n",
       "<style scoped>\n",
       "    .dataframe tbody tr th:only-of-type {\n",
       "        vertical-align: middle;\n",
       "    }\n",
       "\n",
       "    .dataframe tbody tr th {\n",
       "        vertical-align: top;\n",
       "    }\n",
       "\n",
       "    .dataframe thead th {\n",
       "        text-align: right;\n",
       "    }\n",
       "</style>\n",
       "<table border=\"1\" class=\"dataframe\">\n",
       "  <thead>\n",
       "    <tr style=\"text-align: right;\">\n",
       "      <th></th>\n",
       "      <th>title</th>\n",
       "      <th>text</th>\n",
       "      <th>subject</th>\n",
       "      <th>date</th>\n",
       "      <th>label</th>\n",
       "    </tr>\n",
       "  </thead>\n",
       "  <tbody>\n",
       "    <tr>\n",
       "      <th>1941</th>\n",
       "      <td>Serbian, Croatian police detain 17 for smuggli...</td>\n",
       "      <td>BELGRADE (Reuters) - In a joint sting, Serbian...</td>\n",
       "      <td>worldnews</td>\n",
       "      <td>December 20, 2017</td>\n",
       "      <td>Real news</td>\n",
       "    </tr>\n",
       "    <tr>\n",
       "      <th>2499</th>\n",
       "      <td>Trump chooses pro wrestling magnate Linda McMa...</td>\n",
       "      <td>WASHINGTON (Reuters) - U.S. President-elect Do...</td>\n",
       "      <td>politicsNews</td>\n",
       "      <td>December 7, 2016</td>\n",
       "      <td>Real news</td>\n",
       "    </tr>\n",
       "    <tr>\n",
       "      <th>6254</th>\n",
       "      <td>Kremlin: U.S. arms license for Kiev may trigge...</td>\n",
       "      <td>MOSCOW (Reuters) - The approval by the United ...</td>\n",
       "      <td>worldnews</td>\n",
       "      <td>December 21, 2017</td>\n",
       "      <td>Real news</td>\n",
       "    </tr>\n",
       "    <tr>\n",
       "      <th>7100</th>\n",
       "      <td>Kenyan President Kenyatta wins 98 percent of v...</td>\n",
       "      <td>NAIROBI (Reuters) - Kenya s incumbent Presiden...</td>\n",
       "      <td>worldnews</td>\n",
       "      <td>October 30, 2017</td>\n",
       "      <td>Real news</td>\n",
       "    </tr>\n",
       "    <tr>\n",
       "      <th>7173</th>\n",
       "      <td>Pentagon notified U.S. Congress of $593 millio...</td>\n",
       "      <td>WASHINGTON (Reuters) - The Pentagon has notifi...</td>\n",
       "      <td>politicsNews</td>\n",
       "      <td>August 30, 2017</td>\n",
       "      <td>Real news</td>\n",
       "    </tr>\n",
       "    <tr>\n",
       "      <th>...</th>\n",
       "      <td>...</td>\n",
       "      <td>...</td>\n",
       "      <td>...</td>\n",
       "      <td>...</td>\n",
       "      <td>...</td>\n",
       "    </tr>\n",
       "    <tr>\n",
       "      <th>44474</th>\n",
       "      <td>Obama makes last attempt to persuade Congress ...</td>\n",
       "      <td>WASHINGTON (Reuters) - President Barack Obama ...</td>\n",
       "      <td>politicsNews</td>\n",
       "      <td>February 23, 2016</td>\n",
       "      <td>Real news</td>\n",
       "    </tr>\n",
       "    <tr>\n",
       "      <th>44569</th>\n",
       "      <td>'Nuclear option' fallout? More extreme U.S. ju...</td>\n",
       "      <td>WASHINGTON (Reuters) - A Republican-backed Sen...</td>\n",
       "      <td>politicsNews</td>\n",
       "      <td>April 6, 2017</td>\n",
       "      <td>Real news</td>\n",
       "    </tr>\n",
       "    <tr>\n",
       "      <th>44654</th>\n",
       "      <td>Highlights: The Trump presidency on March 31 a...</td>\n",
       "      <td>(Reuters) - Highlights of the day for U.S. Pre...</td>\n",
       "      <td>politicsNews</td>\n",
       "      <td>March 31, 2017</td>\n",
       "      <td>Real news</td>\n",
       "    </tr>\n",
       "    <tr>\n",
       "      <th>44733</th>\n",
       "      <td>Mexican governor requests leave to run for pre...</td>\n",
       "      <td>MEXICO CITY (Reuters) - The governor of Nuevo ...</td>\n",
       "      <td>worldnews</td>\n",
       "      <td>December 21, 2017</td>\n",
       "      <td>Real news</td>\n",
       "    </tr>\n",
       "    <tr>\n",
       "      <th>44808</th>\n",
       "      <td>Kuwait says GCC to keep operating despite Qata...</td>\n",
       "      <td>DUBAI (Reuters) - Kuwait s deputy foreign mini...</td>\n",
       "      <td>worldnews</td>\n",
       "      <td>December 27, 2017</td>\n",
       "      <td>Real news</td>\n",
       "    </tr>\n",
       "  </tbody>\n",
       "</table>\n",
       "<p>209 rows × 5 columns</p>\n",
       "</div>"
      ],
      "text/plain": [
       "                                                   title  \\\n",
       "1941   Serbian, Croatian police detain 17 for smuggli...   \n",
       "2499   Trump chooses pro wrestling magnate Linda McMa...   \n",
       "6254   Kremlin: U.S. arms license for Kiev may trigge...   \n",
       "7100   Kenyan President Kenyatta wins 98 percent of v...   \n",
       "7173   Pentagon notified U.S. Congress of $593 millio...   \n",
       "...                                                  ...   \n",
       "44474  Obama makes last attempt to persuade Congress ...   \n",
       "44569  'Nuclear option' fallout? More extreme U.S. ju...   \n",
       "44654  Highlights: The Trump presidency on March 31 a...   \n",
       "44733  Mexican governor requests leave to run for pre...   \n",
       "44808  Kuwait says GCC to keep operating despite Qata...   \n",
       "\n",
       "                                                    text       subject  \\\n",
       "1941   BELGRADE (Reuters) - In a joint sting, Serbian...     worldnews   \n",
       "2499   WASHINGTON (Reuters) - U.S. President-elect Do...  politicsNews   \n",
       "6254   MOSCOW (Reuters) - The approval by the United ...     worldnews   \n",
       "7100   NAIROBI (Reuters) - Kenya s incumbent Presiden...     worldnews   \n",
       "7173   WASHINGTON (Reuters) - The Pentagon has notifi...  politicsNews   \n",
       "...                                                  ...           ...   \n",
       "44474  WASHINGTON (Reuters) - President Barack Obama ...  politicsNews   \n",
       "44569  WASHINGTON (Reuters) - A Republican-backed Sen...  politicsNews   \n",
       "44654  (Reuters) - Highlights of the day for U.S. Pre...  politicsNews   \n",
       "44733  MEXICO CITY (Reuters) - The governor of Nuevo ...     worldnews   \n",
       "44808  DUBAI (Reuters) - Kuwait s deputy foreign mini...     worldnews   \n",
       "\n",
       "                     date      label  \n",
       "1941   December 20, 2017   Real news  \n",
       "2499    December 7, 2016   Real news  \n",
       "6254   December 21, 2017   Real news  \n",
       "7100    October 30, 2017   Real news  \n",
       "7173     August 30, 2017   Real news  \n",
       "...                   ...        ...  \n",
       "44474  February 23, 2016   Real news  \n",
       "44569      April 6, 2017   Real news  \n",
       "44654     March 31, 2017   Real news  \n",
       "44733  December 21, 2017   Real news  \n",
       "44808  December 27, 2017   Real news  \n",
       "\n",
       "[209 rows x 5 columns]"
      ]
     },
     "execution_count": 21,
     "metadata": {},
     "output_type": "execute_result"
    }
   ],
   "source": [
    "duplicate=news_df[news_df.duplicated()]\n",
    "duplicate"
   ]
  },
  {
   "cell_type": "markdown",
   "id": "23a0a9c2",
   "metadata": {},
   "source": [
    "So, All duplicated records are removed "
   ]
  },
  {
   "cell_type": "code",
   "execution_count": 22,
   "id": "88c2cc32",
   "metadata": {},
   "outputs": [
    {
     "data": {
      "text/html": [
       "<div>\n",
       "<style scoped>\n",
       "    .dataframe tbody tr th:only-of-type {\n",
       "        vertical-align: middle;\n",
       "    }\n",
       "\n",
       "    .dataframe tbody tr th {\n",
       "        vertical-align: top;\n",
       "    }\n",
       "\n",
       "    .dataframe thead th {\n",
       "        text-align: right;\n",
       "    }\n",
       "</style>\n",
       "<table border=\"1\" class=\"dataframe\">\n",
       "  <thead>\n",
       "    <tr style=\"text-align: right;\">\n",
       "      <th></th>\n",
       "      <th>text</th>\n",
       "      <th>subject</th>\n",
       "      <th>label</th>\n",
       "    </tr>\n",
       "  </thead>\n",
       "  <tbody>\n",
       "    <tr>\n",
       "      <th>0</th>\n",
       "      <td>NEW YORK/WASHINGTON (Reuters) - This year’s pr...</td>\n",
       "      <td>politicsNews</td>\n",
       "      <td>Real news</td>\n",
       "    </tr>\n",
       "    <tr>\n",
       "      <th>1</th>\n",
       "      <td>Here s just one video from last night that wil...</td>\n",
       "      <td>politics</td>\n",
       "      <td>Fake news</td>\n",
       "    </tr>\n",
       "    <tr>\n",
       "      <th>2</th>\n",
       "      <td>One California resident commented: Lots of ill...</td>\n",
       "      <td>left-news</td>\n",
       "      <td>Fake news</td>\n",
       "    </tr>\n",
       "    <tr>\n",
       "      <th>3</th>\n",
       "      <td>ABIDJAN (Reuters) - Three United Nations soldi...</td>\n",
       "      <td>worldnews</td>\n",
       "      <td>Real news</td>\n",
       "    </tr>\n",
       "    <tr>\n",
       "      <th>4</th>\n",
       "      <td>Earlier today, President Trump tweeted about t...</td>\n",
       "      <td>politics</td>\n",
       "      <td>Fake news</td>\n",
       "    </tr>\n",
       "    <tr>\n",
       "      <th>...</th>\n",
       "      <td>...</td>\n",
       "      <td>...</td>\n",
       "      <td>...</td>\n",
       "    </tr>\n",
       "    <tr>\n",
       "      <th>44893</th>\n",
       "      <td>On Friday, St. Louis police arrested two 30-ye...</td>\n",
       "      <td>News</td>\n",
       "      <td>Fake news</td>\n",
       "    </tr>\n",
       "    <tr>\n",
       "      <th>44894</th>\n",
       "      <td>The Internet can be a vicious place and an ope...</td>\n",
       "      <td>News</td>\n",
       "      <td>Fake news</td>\n",
       "    </tr>\n",
       "    <tr>\n",
       "      <th>44895</th>\n",
       "      <td>As much as Hillary Clinton wants to spin the d...</td>\n",
       "      <td>politics</td>\n",
       "      <td>Fake news</td>\n",
       "    </tr>\n",
       "    <tr>\n",
       "      <th>44896</th>\n",
       "      <td>WASHINGTON (Reuters) - Former U.S. President B...</td>\n",
       "      <td>politicsNews</td>\n",
       "      <td>Real news</td>\n",
       "    </tr>\n",
       "    <tr>\n",
       "      <th>44897</th>\n",
       "      <td>I m Doug Hughes, I m 61 years old and I m a m...</td>\n",
       "      <td>Government News</td>\n",
       "      <td>Fake news</td>\n",
       "    </tr>\n",
       "  </tbody>\n",
       "</table>\n",
       "<p>44898 rows × 3 columns</p>\n",
       "</div>"
      ],
      "text/plain": [
       "                                                    text          subject  \\\n",
       "0      NEW YORK/WASHINGTON (Reuters) - This year’s pr...     politicsNews   \n",
       "1      Here s just one video from last night that wil...         politics   \n",
       "2      One California resident commented: Lots of ill...        left-news   \n",
       "3      ABIDJAN (Reuters) - Three United Nations soldi...        worldnews   \n",
       "4      Earlier today, President Trump tweeted about t...         politics   \n",
       "...                                                  ...              ...   \n",
       "44893  On Friday, St. Louis police arrested two 30-ye...             News   \n",
       "44894  The Internet can be a vicious place and an ope...             News   \n",
       "44895  As much as Hillary Clinton wants to spin the d...         politics   \n",
       "44896  WASHINGTON (Reuters) - Former U.S. President B...     politicsNews   \n",
       "44897   I m Doug Hughes, I m 61 years old and I m a m...  Government News   \n",
       "\n",
       "           label  \n",
       "0      Real news  \n",
       "1      Fake news  \n",
       "2      Fake news  \n",
       "3      Real news  \n",
       "4      Fake news  \n",
       "...          ...  \n",
       "44893  Fake news  \n",
       "44894  Fake news  \n",
       "44895  Fake news  \n",
       "44896  Real news  \n",
       "44897  Fake news  \n",
       "\n",
       "[44898 rows x 3 columns]"
      ]
     },
     "execution_count": 22,
     "metadata": {},
     "output_type": "execute_result"
    }
   ],
   "source": [
    "#Removing Title, and Date (I won't use it for analysis )\n",
    "news_df.drop(['title','date'], axis=1,inplace=True)\n",
    "news_df"
   ]
  },
  {
   "cell_type": "code",
   "execution_count": 68,
   "id": "09c33e6c",
   "metadata": {},
   "outputs": [],
   "source": [
    " #Creating a function to process the texts\n",
    "\n",
    "import re\n",
    "def wordopt(text):\n",
    "    text = text.lower() #converting the text to lowercase.\n",
    "    text = re.sub(r'[^\\w\\s]', '', text) #removing punctuation.\n",
    "    text = re.sub('\\w*\\d\\w*','', text)# Removing digits and words containing digits\n",
    "    text = re.sub(' +',' ', text)#removing whitespaces\n",
    "    return text\n",
    "\n"
   ]
  },
  {
   "cell_type": "code",
   "execution_count": 69,
   "id": "01229c48",
   "metadata": {},
   "outputs": [],
   "source": [
    "news_df['text'] = news_df['text'].apply(wordopt)\n"
   ]
  },
  {
   "cell_type": "code",
   "execution_count": 25,
   "id": "55e84787",
   "metadata": {},
   "outputs": [
    {
     "data": {
      "text/plain": [
       "0"
      ]
     },
     "execution_count": 25,
     "metadata": {},
     "output_type": "execute_result"
    }
   ],
   "source": [
    "#checking if there missing values\n",
    "news_df['text'].isnull().sum()"
   ]
  },
  {
   "cell_type": "markdown",
   "id": "ed9f9679",
   "metadata": {},
   "source": [
    "The dataset doesn't have any missing values."
   ]
  },
  {
   "cell_type": "markdown",
   "id": "7bd2ef15",
   "metadata": {},
   "source": [
    "# Visualization the data"
   ]
  },
  {
   "cell_type": "code",
   "execution_count": 26,
   "id": "ea690ca7",
   "metadata": {},
   "outputs": [
    {
     "name": "stdout",
     "output_type": "stream",
     "text": [
      "subject\n",
      "Government News     1570\n",
      "Middle-east          778\n",
      "News                9050\n",
      "US_News              783\n",
      "left-news           4459\n",
      "politics            6841\n",
      "politicsNews       11272\n",
      "worldnews          10145\n",
      "Name: text, dtype: int64\n"
     ]
    },
    {
     "data": {
      "text/plain": [
       "<AxesSubplot:xlabel='subject'>"
      ]
     },
     "execution_count": 26,
     "metadata": {},
     "output_type": "execute_result"
    },
    {
     "data": {
      "image/png": "[encoded data removed]",
      "text/plain": [
       "<Figure size 432x288 with 1 Axes>"
      ]
     },
     "metadata": {
      "needs_background": "light"
     },
     "output_type": "display_data"
    }
   ],
   "source": [
    "# How many articles per subject?\n",
    "print(news_df.groupby(['subject'])['text'].count())\n",
    "news_df.groupby(['subject'])['text'].count().plot(kind=\"bar\")\n"
   ]
  },
  {
   "cell_type": "code",
   "execution_count": 59,
   "id": "774bc191",
   "metadata": {},
   "outputs": [
    {
     "data": {
      "text/plain": [
       "<AxesSubplot:xlabel='label', ylabel='count'>"
      ]
     },
     "execution_count": 59,
     "metadata": {},
     "output_type": "execute_result"
    },
    {
     "data": {
      "image/png": "[encoded data removed]",
      "text/plain": [
       "<Figure size 432x288 with 1 Axes>"
      ]
     },
     "metadata": {},
     "output_type": "display_data"
    }
   ],
   "source": [
    "# Visualizing the disribution of Real and fake news\n",
    "sns.countplot(x='label',data=news_df, color='Darkgrey')"
   ]
  },
  {
   "cell_type": "markdown",
   "id": "db6a968a",
   "metadata": {},
   "source": [
    "The Fake news are more than Real news"
   ]
  },
  {
   "cell_type": "markdown",
   "id": "33041e5a",
   "metadata": {},
   "source": [
    "## Modeling "
   ]
  },
  {
   "cell_type": "markdown",
   "id": "3e94058b",
   "metadata": {},
   "source": [
    "Tis section, I will trainig my data using `Logistic Regression model`, `Random Forest classifier`, `K-nearest neighbors`, `and naive-bayas`. "
   ]
  },
  {
   "cell_type": "code",
   "execution_count": 30,
   "id": "1eff8fc8",
   "metadata": {},
   "outputs": [],
   "source": [
    "# Function to plot the confusion matrix (code from https://scikit-learn.org/stable/auto_examples/model_selection/plot_confusion_matrix.html)\n",
    "from sklearn import metrics\n",
    "import itertools\n",
    "\n",
    "def plot_confusion_matrix(cm, classes,\n",
    "                          normalize=False,\n",
    "                          title='Confusion matrix',\n",
    "                          cmap=plt.cm.Blues):\n",
    "    \n",
    "    plt.imshow(cm, interpolation='nearest', cmap=cmap)\n",
    "    plt.title(title)\n",
    "    plt.colorbar()\n",
    "    tick_marks = np.arange(len(classes))\n",
    "    plt.xticks(tick_marks, classes, rotation=45)\n",
    "    plt.yticks(tick_marks, classes)\n",
    "\n",
    "    if normalize:\n",
    "        cm = cm.astype('float') / cm.sum(axis=1)[:, np.newaxis]\n",
    "        print(\"Normalized confusion matrix\")\n",
    "    else:\n",
    "        print('Confusion matrix, without normalization')\n",
    "\n",
    "    thresh = cm.max() / 2.\n",
    "    for i, j in itertools.product(range(cm.shape[0]), range(cm.shape[1])):\n",
    "        plt.text(j, i, cm[i, j],\n",
    "                 horizontalalignment=\"center\",\n",
    "                 color=\"white\" if cm[i, j] > thresh else \"black\")\n",
    "\n",
    "    plt.tight_layout()\n",
    "    plt.ylabel('True label')\n",
    "    plt.xlabel('Predicted label')"
   ]
  },
  {
   "cell_type": "markdown",
   "id": "a353f888",
   "metadata": {},
   "source": [
    "#### Defining Feature and Target "
   ]
  },
  {
   "cell_type": "code",
   "execution_count": 31,
   "id": "8400ec6b",
   "metadata": {},
   "outputs": [],
   "source": [
    "X = news_df['text']#my Feature \n",
    "y = news_df['label']# my target"
   ]
  },
  {
   "cell_type": "markdown",
   "id": "2b6f3bad",
   "metadata": {},
   "source": [
    "#### Train Test Split\n"
   ]
  },
  {
   "cell_type": "markdown",
   "id": "e2b4a669",
   "metadata": {},
   "source": [
    "Now its time to split our data into a training set and a testing set!"
   ]
  },
  {
   "cell_type": "code",
   "execution_count": 32,
   "id": "7dbd861d",
   "metadata": {},
   "outputs": [],
   "source": [
    "from sklearn.model_selection import train_test_split\n",
    "\n",
    "# Lets split the data into train and test data. We will use 30% of the data as test data\n",
    "X_train, X_test, y_train, y_test = train_test_split(X,y, test_size=0.50, random_state=100)"
   ]
  },
  {
   "cell_type": "markdown",
   "id": "fc14f09e",
   "metadata": {},
   "source": [
    " "
   ]
  },
  {
   "cell_type": "markdown",
   "id": "084e7f06",
   "metadata": {},
   "source": [
    " "
   ]
  },
  {
   "cell_type": "markdown",
   "id": "12b9a00c",
   "metadata": {},
   "source": [
    " #### Logistic regression\n"
   ]
  },
  {
   "cell_type": "code",
   "execution_count": 33,
   "id": "98e65f99",
   "metadata": {},
   "outputs": [
    {
     "data": {
      "text/plain": [
       "Pipeline(steps=[('vector', TfidfVectorizer()),\n",
       "                ('classifier', LogisticRegression())])"
      ]
     },
     "execution_count": 33,
     "metadata": {},
     "output_type": "execute_result"
    }
   ],
   "source": [
    "from sklearn.linear_model import LogisticRegression\n",
    "from sklearn.feature_extraction.text import TfidfVectorizer\n",
    "from sklearn.metrics import accuracy_score,classification_report\n",
    "LR = Pipeline([\n",
    "    ('vector',TfidfVectorizer()),#convert text to numric structure\n",
    "    ('classifier',LogisticRegression())#using Logistic regression model \n",
    "])\n",
    "\n",
    "# training the model\n",
    "LR.fit(X_train,y_train) "
   ]
  },
  {
   "cell_type": "code",
   "execution_count": 34,
   "id": "3e8fd34e",
   "metadata": {},
   "outputs": [],
   "source": [
    "pred_lr=LR.predict(X_test) # prediction our pred_lr"
   ]
  },
  {
   "cell_type": "code",
   "execution_count": 35,
   "id": "992097fb",
   "metadata": {},
   "outputs": [],
   "source": [
    "LR.score(X_test, y_test)# computes the accuracy score  \n",
    "acc_LR= accuracy_score(y_test,pred_lr)"
   ]
  },
  {
   "cell_type": "code",
   "execution_count": 36,
   "id": "6840a3ff",
   "metadata": {},
   "outputs": [
    {
     "name": "stdout",
     "output_type": "stream",
     "text": [
      "              precision    recall  f1-score   support\n",
      "\n",
      "   Fake news       0.99      0.98      0.99     11755\n",
      "   Real news       0.98      0.99      0.98     10694\n",
      "\n",
      "    accuracy                           0.99     22449\n",
      "   macro avg       0.99      0.99      0.99     22449\n",
      "weighted avg       0.99      0.99      0.99     22449\n",
      "\n"
     ]
    }
   ],
   "source": [
    "from sklearn.metrics import classification_report \n",
    "print( classification_report(y_test, pred_lr))"
   ]
  },
  {
   "cell_type": "code",
   "execution_count": 37,
   "id": "55ea83e2",
   "metadata": {},
   "outputs": [
    {
     "name": "stdout",
     "output_type": "stream",
     "text": [
      "[[11570   185]\n",
      " [  143 10551]]\n"
     ]
    }
   ],
   "source": [
    "from sklearn.metrics import confusion_matrix\n",
    "print(confusion_matrix(y_test,pred_lr))"
   ]
  },
  {
   "cell_type": "code",
   "execution_count": 38,
   "id": "a14d45ff",
   "metadata": {},
   "outputs": [
    {
     "name": "stdout",
     "output_type": "stream",
     "text": [
      "Confusion matrix, without normalization\n"
     ]
    },
    {
     "data": {
      "image/png": "[encoded data removed]",
      "text/plain": [
       "<Figure size 432x288 with 2 Axes>"
      ]
     },
     "metadata": {
      "needs_background": "light"
     },
     "output_type": "display_data"
    }
   ],
   "source": [
    "cm = metrics.confusion_matrix(y_test, pred_lr)\n",
    "plot_confusion_matrix(cm, classes=['Fake', 'Real'])"
   ]
  },
  {
   "cell_type": "markdown",
   "id": "e2040e69",
   "metadata": {},
   "source": [
    "#### Random Forest Classifier"
   ]
  },
  {
   "cell_type": "code",
   "execution_count": 70,
   "id": "5259c51c",
   "metadata": {},
   "outputs": [
    {
     "data": {
      "text/plain": [
       "Pipeline(steps=[('vector', TfidfVectorizer()),\n",
       "                ('classifier', RandomForestClassifier(random_state=100))])"
      ]
     },
     "execution_count": 70,
     "metadata": {},
     "output_type": "execute_result"
    }
   ],
   "source": [
    "from sklearn.ensemble import RandomForestClassifier\n",
    "from sklearn.pipeline import Pipeline\n",
    "from sklearn.feature_extraction.text import TfidfVectorizer\n",
    "\n",
    "\n",
    "RFC = Pipeline([('vector',TfidfVectorizer())#convert text to numric structure\n",
    "             ,('classifier',RandomForestClassifier(random_state=100))#using Random Forest model \n",
    "               ])\n",
    "\n",
    "# training the model\n",
    "RFC.fit(X_train, y_train)"
   ]
  },
  {
   "cell_type": "code",
   "execution_count": 40,
   "id": "9c986e1a",
   "metadata": {},
   "outputs": [],
   "source": [
    "RFC_pred = RFC.predict(X_test)"
   ]
  },
  {
   "cell_type": "code",
   "execution_count": 41,
   "id": "4e22c69e",
   "metadata": {},
   "outputs": [],
   "source": [
    "RFC.score(X_test, y_test)\n",
    "acc_RFC= accuracy_score(y_test,RFC_pred)"
   ]
  },
  {
   "cell_type": "code",
   "execution_count": 42,
   "id": "d8e9e258",
   "metadata": {},
   "outputs": [
    {
     "name": "stdout",
     "output_type": "stream",
     "text": [
      "              precision    recall  f1-score   support\n",
      "\n",
      "   Fake news       0.99      0.99      0.99     11755\n",
      "   Real news       0.99      0.98      0.98     10694\n",
      "\n",
      "    accuracy                           0.99     22449\n",
      "   macro avg       0.99      0.99      0.99     22449\n",
      "weighted avg       0.99      0.99      0.99     22449\n",
      "\n"
     ]
    }
   ],
   "source": [
    "from sklearn.metrics import classification_report , accuracy_score\n",
    "print(classification_report(y_test, RFC_pred))"
   ]
  },
  {
   "cell_type": "code",
   "execution_count": 43,
   "id": "a144c9e1",
   "metadata": {},
   "outputs": [
    {
     "name": "stdout",
     "output_type": "stream",
     "text": [
      "[[11599   156]\n",
      " [  175 10519]]\n"
     ]
    }
   ],
   "source": [
    "from sklearn.metrics import confusion_matrix\n",
    "print(confusion_matrix(y_test,RFC_pred))"
   ]
  },
  {
   "cell_type": "code",
   "execution_count": 44,
   "id": "e4ed3e96",
   "metadata": {},
   "outputs": [
    {
     "name": "stdout",
     "output_type": "stream",
     "text": [
      "Confusion matrix, without normalization\n"
     ]
    },
    {
     "data": {
      "image/png": "[encoded data removed]",
      "text/plain": [
       "<Figure size 432x288 with 2 Axes>"
      ]
     },
     "metadata": {
      "needs_background": "light"
     },
     "output_type": "display_data"
    }
   ],
   "source": [
    "cm = metrics.confusion_matrix(y_test, RFC_pred)\n",
    "plot_confusion_matrix(cm, classes=['Fake', 'Real'])"
   ]
  },
  {
   "cell_type": "markdown",
   "id": "3814af51",
   "metadata": {},
   "source": [
    "#### K-nearest nieghbors (KNN)"
   ]
  },
  {
   "cell_type": "code",
   "execution_count": 45,
   "id": "f3c40ffa",
   "metadata": {},
   "outputs": [
    {
     "data": {
      "text/plain": [
       "Pipeline(steps=[('vector', TfidfVectorizer()),\n",
       "                ('classifier', KNeighborsClassifier(n_neighbors=100))])"
      ]
     },
     "execution_count": 45,
     "metadata": {},
     "output_type": "execute_result"
    }
   ],
   "source": [
    "from sklearn.neighbors import KNeighborsClassifier\n",
    "knn = Pipeline([\n",
    "    ('vector',TfidfVectorizer()),#convert text to numric structure\n",
    "    ('classifier',KNeighborsClassifier(n_neighbors=100))#using 100-nearest nieghbors model \n",
    "])\n",
    "\n",
    "# training the model\n",
    "knn.fit(X_train, y_train)"
   ]
  },
  {
   "cell_type": "code",
   "execution_count": 46,
   "id": "34511634",
   "metadata": {},
   "outputs": [],
   "source": [
    "KNN_pred = knn.predict(X_test)"
   ]
  },
  {
   "cell_type": "code",
   "execution_count": 47,
   "id": "cf3ed9c8",
   "metadata": {},
   "outputs": [],
   "source": [
    "knn.score(y_test,KNN_pred)\n",
    "acc_KNN = accuracy_score(y_test, KNN_pred)"
   ]
  },
  {
   "cell_type": "code",
   "execution_count": 48,
   "id": "93bd0057",
   "metadata": {},
   "outputs": [
    {
     "name": "stdout",
     "output_type": "stream",
     "text": [
      "              precision    recall  f1-score   support\n",
      "\n",
      "   Fake news       0.53      1.00      0.69     11755\n",
      "   Real news       0.98      0.01      0.03     10694\n",
      "\n",
      "    accuracy                           0.53     22449\n",
      "   macro avg       0.75      0.51      0.36     22449\n",
      "weighted avg       0.74      0.53      0.37     22449\n",
      "\n"
     ]
    }
   ],
   "source": [
    "print(classification_report(y_test, KNN_pred))"
   ]
  },
  {
   "cell_type": "code",
   "execution_count": 49,
   "id": "902a650b",
   "metadata": {},
   "outputs": [
    {
     "name": "stdout",
     "output_type": "stream",
     "text": [
      "[[11752     3]\n",
      " [10549   145]]\n"
     ]
    }
   ],
   "source": [
    "print(confusion_matrix(y_test,KNN_pred))"
   ]
  },
  {
   "cell_type": "code",
   "execution_count": 50,
   "id": "6250b58c",
   "metadata": {},
   "outputs": [
    {
     "name": "stdout",
     "output_type": "stream",
     "text": [
      "Confusion matrix, without normalization\n"
     ]
    },
    {
     "data": {
      "image/png": "[encoded data removed]",
      "text/plain": [
       "<Figure size 432x288 with 2 Axes>"
      ]
     },
     "metadata": {
      "needs_background": "light"
     },
     "output_type": "display_data"
    }
   ],
   "source": [
    "cm = metrics.confusion_matrix(y_test, KNN_pred)\n",
    "plot_confusion_matrix(cm, classes=['Fake', 'Real'])"
   ]
  },
  {
   "cell_type": "markdown",
   "id": "b7e8f9f3",
   "metadata": {},
   "source": [
    "#### Naive-bayas Model"
   ]
  },
  {
   "cell_type": "code",
   "execution_count": 51,
   "id": "b29ef374",
   "metadata": {},
   "outputs": [
    {
     "data": {
      "text/plain": [
       "Pipeline(steps=[('vector', TfidfVectorizer()), ('classifier', MultinomialNB())])"
      ]
     },
     "execution_count": 51,
     "metadata": {},
     "output_type": "execute_result"
    }
   ],
   "source": [
    "from sklearn.naive_bayes import GaussianNB\n",
    "from sklearn.pipeline import Pipeline\n",
    "from sklearn.naive_bayes import MultinomialNB\n",
    "naive = Pipeline([\n",
    "    ('vector',TfidfVectorizer()),#convert text to numric structure\n",
    "    ('classifier',MultinomialNB()) #using naive-bayas model \n",
    "])\n",
    "\n",
    "# training the model\n",
    "naive.fit(X_train,y_train)"
   ]
  },
  {
   "cell_type": "code",
   "execution_count": 52,
   "id": "94cce9ab",
   "metadata": {},
   "outputs": [
    {
     "name": "stdout",
     "output_type": "stream",
     "text": [
      "              precision    recall  f1-score   support\n",
      "\n",
      "   Fake news       0.94      0.95      0.94     11755\n",
      "   Real news       0.95      0.93      0.94     10694\n",
      "\n",
      "    accuracy                           0.94     22449\n",
      "   macro avg       0.94      0.94      0.94     22449\n",
      "weighted avg       0.94      0.94      0.94     22449\n",
      "\n"
     ]
    }
   ],
   "source": [
    "naive_pred = naive.predict(X_test)\n",
    "naive.score(y_test,naive_pred)\n",
    "acc_naive = accuracy_score(y_test,naive_pred)\n",
    "print(classification_report(y_test,naive_pred))"
   ]
  },
  {
   "cell_type": "code",
   "execution_count": 53,
   "id": "15965a14",
   "metadata": {},
   "outputs": [
    {
     "name": "stdout",
     "output_type": "stream",
     "text": [
      "[[11186   569]\n",
      " [  768  9926]]\n"
     ]
    }
   ],
   "source": [
    "print(confusion_matrix(y_test,naive_pred))"
   ]
  },
  {
   "cell_type": "code",
   "execution_count": 54,
   "id": "12d5daa0",
   "metadata": {},
   "outputs": [
    {
     "name": "stdout",
     "output_type": "stream",
     "text": [
      "Confusion matrix, without normalization\n"
     ]
    },
    {
     "data": {
      "image/png": "[encoded data removed]",
      "text/plain": [
       "<Figure size 432x288 with 2 Axes>"
      ]
     },
     "metadata": {
      "needs_background": "light"
     },
     "output_type": "display_data"
    }
   ],
   "source": [
    "cm = metrics.confusion_matrix(y_test, naive_pred)\n",
    "plot_confusion_matrix(cm, classes=['Fake', 'Real'])"
   ]
  },
  {
   "cell_type": "markdown",
   "id": "7c267da6",
   "metadata": {},
   "source": [
    "## Compirng between models"
   ]
  },
  {
   "cell_type": "code",
   "execution_count": 72,
   "id": "413e56dd",
   "metadata": {},
   "outputs": [
    {
     "data": {
      "text/plain": [
       "Text(0, 0.5, 'Accuracy')"
      ]
     },
     "execution_count": 72,
     "metadata": {},
     "output_type": "execute_result"
    },
    {
     "data": {
      "image/png": "[encoded data removed]",
      "text/plain": [
       "<Figure size 432x288 with 1 Axes>"
      ]
     },
     "metadata": {},
     "output_type": "display_data"
    }
   ],
   "source": [
    "# Let's visualize the accuracy of all the four models\n",
    "models = {\n",
    "    'Logistic':acc_LR,\n",
    "    'RFC':acc_RFC,\n",
    "    'KNN':acc_KNN,\n",
    "    'Naive':acc_naive,\n",
    "}\n",
    "\n",
    "sns.set_style('whitegrid')\n",
    "plt.plot(models.keys(),models.values(),marker='.', mec='blue',color='Darkgrey')\n",
    "plt.xlabel('Models')\n",
    "plt.ylabel('Accuracy')"
   ]
  },
  {
   "cell_type": "markdown",
   "id": "b0dedeb1",
   "metadata": {},
   "source": [
    "As we see , the performance of `logistic regression` and `RFC` models are the BEST!! "
   ]
  },
  {
   "cell_type": "markdown",
   "id": "c337dfad",
   "metadata": {},
   "source": [
    "## Conclusion "
   ]
  },
  {
   "cell_type": "markdown",
   "id": "861a2b15",
   "metadata": {},
   "source": [
    "This project focuses on detecting the fake news by reviewing it in two stages: EDA and modeling . In the first stage, Understanding the given dataset and helps clean up the given dataset, Handling Missing values or human error,This process is time-consuming but very effective.\n",
    "\n",
    "The Second stage, Training our Features by using some Supervised ML approaches to classify the articles based on Text analysis. The Logistic Regression and RFC Classifier give us the best performnce, with results of accuracy 99%!!"
   ]
  },
  {
   "cell_type": "markdown",
   "id": "a306291a",
   "metadata": {},
   "source": [
    "The END!!"
   ]
  },
  {
   "cell_type": "code",
   "execution_count": null,
   "id": "99032183",
   "metadata": {},
   "outputs": [],
   "source": []
  }
 ],
 "metadata": {
  "kernelspec": {
   "display_name": "Python 3",
   "language": "python",
   "name": "python3"
  },
  "language_info": {
   "codemirror_mode": {
    "name": "ipython",
    "version": 3
   },
   "file_extension": ".py",
   "mimetype": "text/x-python",
   "name": "python",
   "nbconvert_exporter": "python",
   "pygments_lexer": "ipython3",
   "version": "3.8.8"
  }
 },
 "nbformat": 4,
 "nbformat_minor": 5
}
